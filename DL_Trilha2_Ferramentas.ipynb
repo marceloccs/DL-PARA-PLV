{
  "cells": [
    {
      "cell_type": "markdown",
      "metadata": {
        "id": "view-in-github",
        "colab_type": "text"
      },
      "source": [
        "<a href=\"https://colab.research.google.com/github/marceloccs/DL-PARA-PLV/blob/main/DL_Trilha2_Ferramentas.ipynb\" target=\"_parent\"><img src=\"https://colab.research.google.com/assets/colab-badge.svg\" alt=\"Open In Colab\"/></a>"
      ]
    },
    {
      "cell_type": "markdown",
      "source": [
        "#**Nome:** Marcelo Custodio Cruz Silva\n",
        "\n",
        "##**Matricula:** 92123341\n",
        "\n",
        "---\n",
        "\n",
        "##**Curso:** Inteligencia Artificial\n",
        "\n",
        "##**Turma:** B\n",
        "\n",
        "*Link do arquivo no google colabs: https://drive.google.com/file/d/1HoGA-BeAnhff7ChuT-Z7NtYUOwguuhde/view?usp=sharing*\n",
        "\n",
        "*Link do arquivo no github: https://github.com/marceloccs/DL-PARA-PLV/blob/main/DL_Trilha2_Ferramentas.ipynb* "
      ],
      "metadata": {
        "id": "lDnFXl1RW1cX"
      }
    },
    {
      "cell_type": "markdown",
      "metadata": {
        "id": "jKsXaVgfcFtI"
      },
      "source": [
        "# Trilha 2: Tarefa (Peso 3)\n",
        "Os frameworks TensorFlow e Keras são muito utilizados para o desenvolvimento de aplicações de Deep Learning. Nesta atividade, você deverá carregar os dados disponibilizados OSI_feats_e3.csv (entrada) e OSI_target_e2.csv (saída) combinando os seguintes passos: \n",
        "\n",
        "1.   \n",
        "Carregue os dados e divida-os em treinamento e teste; \n",
        "2.   Crie um modelo sequencial;\n",
        "3.   Adicione uma camada Dense com N neurônios, sendo N a quantidade de atributos.\n",
        "4.   Adicione uma função de ativação sigmoide;\n",
        "5.   Compile o modelo especificando o otimizador, a métrica de loss para avaliar, e quaisquer outras métricas para avaliar depois de cada época;\n",
        "6.   Ajuste o modelo aos dados de treinamento, especificando o número de épocas; \n",
        "7.   Apresente o loss e outras métricas para cada época que serão avaliadas nos conjuntos de treinamento/avaliação; \n",
        "8.   Avalie o loss no conjunto de teste.\n",
        "\n",
        "Um arquivo notebook em formato.IPYNB com código python deverá ser entregue como resposta. Nesta atividade, não estamos avaliando a qualidade do modelo construído, mas a forma de construção, seguindo os passos indicados. "
      ]
    },
    {
      "cell_type": "code",
      "execution_count": 450,
      "metadata": {
        "id": "oi7czSpNM11B"
      },
      "outputs": [],
      "source": [
        "import numpy as np\n",
        "import pandas as pd\n",
        "import tensorflow as tf\n",
        "from tensorflow import keras"
      ]
    },
    {
      "cell_type": "code",
      "execution_count": 451,
      "metadata": {
        "id": "SU4N5GZyvDMi"
      },
      "outputs": [],
      "source": [
        "from keras.utils.vis_utils import plot_model"
      ]
    },
    {
      "cell_type": "code",
      "execution_count": 452,
      "metadata": {
        "id": "y-sg3u8HjhEB"
      },
      "outputs": [],
      "source": [
        "from keras.models import Model\n",
        "from keras.layers import Input\n",
        "from keras.layers import Dense\n",
        "from keras.layers import Flatten"
      ]
    },
    {
      "cell_type": "code",
      "execution_count": 453,
      "metadata": {
        "id": "2Wh4-I15Hfqh"
      },
      "outputs": [],
      "source": [
        "from sklearn.model_selection import train_test_split"
      ]
    },
    {
      "cell_type": "code",
      "execution_count": 454,
      "metadata": {
        "colab": {
          "base_uri": "https://localhost:8080/"
        },
        "id": "mVSSMRKpgUKV",
        "outputId": "082dc450-378a-47a3-9054-fe06f96ebb34"
      },
      "outputs": [
        {
          "output_type": "stream",
          "name": "stdout",
          "text": [
            "2.8.0\n",
            "2.8.0\n"
          ]
        }
      ],
      "source": [
        "print(tf.__version__)\n",
        "print(keras.__version__)"
      ]
    },
    {
      "cell_type": "markdown",
      "metadata": {
        "id": "96PAPXRz7Ux6"
      },
      "source": [
        "# Construindo um Modelo"
      ]
    },
    {
      "cell_type": "markdown",
      "metadata": {
        "id": "if3omNwbAM2N"
      },
      "source": [
        "## 1. Carregue os dados e divida-os em treinamento e teste; \n"
      ]
    },
    {
      "cell_type": "code",
      "execution_count": 481,
      "metadata": {
        "colab": {
          "base_uri": "https://localhost:8080/",
          "height": 299
        },
        "id": "tKDJkYfkDemV",
        "outputId": "e8c42cb8-110f-4b92-99e3-53de5145efdc"
      },
      "outputs": [
        {
          "output_type": "display_data",
          "data": {
            "text/plain": [
              "   Administrative  Administrative_Duration  Informational  \\\n",
              "0               0                      0.0              0   \n",
              "1               0                      0.0              0   \n",
              "2               0                      0.0              0   \n",
              "3               0                      0.0              0   \n",
              "4               0                      0.0              0   \n",
              "\n",
              "   Informational_Duration  ProductRelated  ProductRelated_Duration  \\\n",
              "0                     0.0               1                 0.000000   \n",
              "1                     0.0               2                64.000000   \n",
              "2                     0.0               1                 0.000000   \n",
              "3                     0.0               2                 2.666667   \n",
              "4                     0.0              10               627.500000   \n",
              "\n",
              "   BounceRates  ExitRates  PageValues  SpecialDay  ...  TrafficType_19  \\\n",
              "0         0.20       0.20         0.0         0.0  ...               0   \n",
              "1         0.00       0.10         0.0         0.0  ...               0   \n",
              "2         0.20       0.20         0.0         0.0  ...               0   \n",
              "3         0.05       0.14         0.0         0.0  ...               0   \n",
              "4         0.02       0.05         0.0         0.0  ...               0   \n",
              "\n",
              "   TrafficType_20  Region_1  Region_2  Region_3  Region_4  Region_6  Region_7  \\\n",
              "0               0         1         0         0         0         0         0   \n",
              "1               0         1         0         0         0         0         0   \n",
              "2               0         0         0         0         0         0         0   \n",
              "3               0         0         1         0         0         0         0   \n",
              "4               0         1         0         0         0         0         0   \n",
              "\n",
              "   Region_8  Region_9  \n",
              "0         0         0  \n",
              "1         0         0  \n",
              "2         0         1  \n",
              "3         0         0  \n",
              "4         0         0  \n",
              "\n",
              "[5 rows x 68 columns]"
            ],
            "text/html": [
              "\n",
              "  <div id=\"df-3966388b-c597-425c-8860-89878412b808\">\n",
              "    <div class=\"colab-df-container\">\n",
              "      <div>\n",
              "<style scoped>\n",
              "    .dataframe tbody tr th:only-of-type {\n",
              "        vertical-align: middle;\n",
              "    }\n",
              "\n",
              "    .dataframe tbody tr th {\n",
              "        vertical-align: top;\n",
              "    }\n",
              "\n",
              "    .dataframe thead th {\n",
              "        text-align: right;\n",
              "    }\n",
              "</style>\n",
              "<table border=\"1\" class=\"dataframe\">\n",
              "  <thead>\n",
              "    <tr style=\"text-align: right;\">\n",
              "      <th></th>\n",
              "      <th>Administrative</th>\n",
              "      <th>Administrative_Duration</th>\n",
              "      <th>Informational</th>\n",
              "      <th>Informational_Duration</th>\n",
              "      <th>ProductRelated</th>\n",
              "      <th>ProductRelated_Duration</th>\n",
              "      <th>BounceRates</th>\n",
              "      <th>ExitRates</th>\n",
              "      <th>PageValues</th>\n",
              "      <th>SpecialDay</th>\n",
              "      <th>...</th>\n",
              "      <th>TrafficType_19</th>\n",
              "      <th>TrafficType_20</th>\n",
              "      <th>Region_1</th>\n",
              "      <th>Region_2</th>\n",
              "      <th>Region_3</th>\n",
              "      <th>Region_4</th>\n",
              "      <th>Region_6</th>\n",
              "      <th>Region_7</th>\n",
              "      <th>Region_8</th>\n",
              "      <th>Region_9</th>\n",
              "    </tr>\n",
              "  </thead>\n",
              "  <tbody>\n",
              "    <tr>\n",
              "      <th>0</th>\n",
              "      <td>0</td>\n",
              "      <td>0.0</td>\n",
              "      <td>0</td>\n",
              "      <td>0.0</td>\n",
              "      <td>1</td>\n",
              "      <td>0.000000</td>\n",
              "      <td>0.20</td>\n",
              "      <td>0.20</td>\n",
              "      <td>0.0</td>\n",
              "      <td>0.0</td>\n",
              "      <td>...</td>\n",
              "      <td>0</td>\n",
              "      <td>0</td>\n",
              "      <td>1</td>\n",
              "      <td>0</td>\n",
              "      <td>0</td>\n",
              "      <td>0</td>\n",
              "      <td>0</td>\n",
              "      <td>0</td>\n",
              "      <td>0</td>\n",
              "      <td>0</td>\n",
              "    </tr>\n",
              "    <tr>\n",
              "      <th>1</th>\n",
              "      <td>0</td>\n",
              "      <td>0.0</td>\n",
              "      <td>0</td>\n",
              "      <td>0.0</td>\n",
              "      <td>2</td>\n",
              "      <td>64.000000</td>\n",
              "      <td>0.00</td>\n",
              "      <td>0.10</td>\n",
              "      <td>0.0</td>\n",
              "      <td>0.0</td>\n",
              "      <td>...</td>\n",
              "      <td>0</td>\n",
              "      <td>0</td>\n",
              "      <td>1</td>\n",
              "      <td>0</td>\n",
              "      <td>0</td>\n",
              "      <td>0</td>\n",
              "      <td>0</td>\n",
              "      <td>0</td>\n",
              "      <td>0</td>\n",
              "      <td>0</td>\n",
              "    </tr>\n",
              "    <tr>\n",
              "      <th>2</th>\n",
              "      <td>0</td>\n",
              "      <td>0.0</td>\n",
              "      <td>0</td>\n",
              "      <td>0.0</td>\n",
              "      <td>1</td>\n",
              "      <td>0.000000</td>\n",
              "      <td>0.20</td>\n",
              "      <td>0.20</td>\n",
              "      <td>0.0</td>\n",
              "      <td>0.0</td>\n",
              "      <td>...</td>\n",
              "      <td>0</td>\n",
              "      <td>0</td>\n",
              "      <td>0</td>\n",
              "      <td>0</td>\n",
              "      <td>0</td>\n",
              "      <td>0</td>\n",
              "      <td>0</td>\n",
              "      <td>0</td>\n",
              "      <td>0</td>\n",
              "      <td>1</td>\n",
              "    </tr>\n",
              "    <tr>\n",
              "      <th>3</th>\n",
              "      <td>0</td>\n",
              "      <td>0.0</td>\n",
              "      <td>0</td>\n",
              "      <td>0.0</td>\n",
              "      <td>2</td>\n",
              "      <td>2.666667</td>\n",
              "      <td>0.05</td>\n",
              "      <td>0.14</td>\n",
              "      <td>0.0</td>\n",
              "      <td>0.0</td>\n",
              "      <td>...</td>\n",
              "      <td>0</td>\n",
              "      <td>0</td>\n",
              "      <td>0</td>\n",
              "      <td>1</td>\n",
              "      <td>0</td>\n",
              "      <td>0</td>\n",
              "      <td>0</td>\n",
              "      <td>0</td>\n",
              "      <td>0</td>\n",
              "      <td>0</td>\n",
              "    </tr>\n",
              "    <tr>\n",
              "      <th>4</th>\n",
              "      <td>0</td>\n",
              "      <td>0.0</td>\n",
              "      <td>0</td>\n",
              "      <td>0.0</td>\n",
              "      <td>10</td>\n",
              "      <td>627.500000</td>\n",
              "      <td>0.02</td>\n",
              "      <td>0.05</td>\n",
              "      <td>0.0</td>\n",
              "      <td>0.0</td>\n",
              "      <td>...</td>\n",
              "      <td>0</td>\n",
              "      <td>0</td>\n",
              "      <td>1</td>\n",
              "      <td>0</td>\n",
              "      <td>0</td>\n",
              "      <td>0</td>\n",
              "      <td>0</td>\n",
              "      <td>0</td>\n",
              "      <td>0</td>\n",
              "      <td>0</td>\n",
              "    </tr>\n",
              "  </tbody>\n",
              "</table>\n",
              "<p>5 rows × 68 columns</p>\n",
              "</div>\n",
              "      <button class=\"colab-df-convert\" onclick=\"convertToInteractive('df-3966388b-c597-425c-8860-89878412b808')\"\n",
              "              title=\"Convert this dataframe to an interactive table.\"\n",
              "              style=\"display:none;\">\n",
              "        \n",
              "  <svg xmlns=\"http://www.w3.org/2000/svg\" height=\"24px\"viewBox=\"0 0 24 24\"\n",
              "       width=\"24px\">\n",
              "    <path d=\"M0 0h24v24H0V0z\" fill=\"none\"/>\n",
              "    <path d=\"M18.56 5.44l.94 2.06.94-2.06 2.06-.94-2.06-.94-.94-2.06-.94 2.06-2.06.94zm-11 1L8.5 8.5l.94-2.06 2.06-.94-2.06-.94L8.5 2.5l-.94 2.06-2.06.94zm10 10l.94 2.06.94-2.06 2.06-.94-2.06-.94-.94-2.06-.94 2.06-2.06.94z\"/><path d=\"M17.41 7.96l-1.37-1.37c-.4-.4-.92-.59-1.43-.59-.52 0-1.04.2-1.43.59L10.3 9.45l-7.72 7.72c-.78.78-.78 2.05 0 2.83L4 21.41c.39.39.9.59 1.41.59.51 0 1.02-.2 1.41-.59l7.78-7.78 2.81-2.81c.8-.78.8-2.07 0-2.86zM5.41 20L4 18.59l7.72-7.72 1.47 1.35L5.41 20z\"/>\n",
              "  </svg>\n",
              "      </button>\n",
              "      \n",
              "  <style>\n",
              "    .colab-df-container {\n",
              "      display:flex;\n",
              "      flex-wrap:wrap;\n",
              "      gap: 12px;\n",
              "    }\n",
              "\n",
              "    .colab-df-convert {\n",
              "      background-color: #E8F0FE;\n",
              "      border: none;\n",
              "      border-radius: 50%;\n",
              "      cursor: pointer;\n",
              "      display: none;\n",
              "      fill: #1967D2;\n",
              "      height: 32px;\n",
              "      padding: 0 0 0 0;\n",
              "      width: 32px;\n",
              "    }\n",
              "\n",
              "    .colab-df-convert:hover {\n",
              "      background-color: #E2EBFA;\n",
              "      box-shadow: 0px 1px 2px rgba(60, 64, 67, 0.3), 0px 1px 3px 1px rgba(60, 64, 67, 0.15);\n",
              "      fill: #174EA6;\n",
              "    }\n",
              "\n",
              "    [theme=dark] .colab-df-convert {\n",
              "      background-color: #3B4455;\n",
              "      fill: #D2E3FC;\n",
              "    }\n",
              "\n",
              "    [theme=dark] .colab-df-convert:hover {\n",
              "      background-color: #434B5C;\n",
              "      box-shadow: 0px 1px 3px 1px rgba(0, 0, 0, 0.15);\n",
              "      filter: drop-shadow(0px 1px 2px rgba(0, 0, 0, 0.3));\n",
              "      fill: #FFFFFF;\n",
              "    }\n",
              "  </style>\n",
              "\n",
              "      <script>\n",
              "        const buttonEl =\n",
              "          document.querySelector('#df-3966388b-c597-425c-8860-89878412b808 button.colab-df-convert');\n",
              "        buttonEl.style.display =\n",
              "          google.colab.kernel.accessAllowed ? 'block' : 'none';\n",
              "\n",
              "        async function convertToInteractive(key) {\n",
              "          const element = document.querySelector('#df-3966388b-c597-425c-8860-89878412b808');\n",
              "          const dataTable =\n",
              "            await google.colab.kernel.invokeFunction('convertToInteractive',\n",
              "                                                     [key], {});\n",
              "          if (!dataTable) return;\n",
              "\n",
              "          const docLinkHtml = 'Like what you see? Visit the ' +\n",
              "            '<a target=\"_blank\" href=https://colab.research.google.com/notebooks/data_table.ipynb>data table notebook</a>'\n",
              "            + ' to learn more about interactive tables.';\n",
              "          element.innerHTML = '';\n",
              "          dataTable['output_type'] = 'display_data';\n",
              "          await google.colab.output.renderOutput(dataTable, element);\n",
              "          const docLink = document.createElement('div');\n",
              "          docLink.innerHTML = docLinkHtml;\n",
              "          element.appendChild(docLink);\n",
              "        }\n",
              "      </script>\n",
              "    </div>\n",
              "  </div>\n",
              "  "
            ]
          },
          "metadata": {}
        }
      ],
      "source": [
        "dfFeats = pd.read_csv(\"https://github.com/marceloccs/DL-PARA-PLV/blob/main/OSI_feats_e3.csv?raw=true\", delimiter=\",\")\n",
        "display(dfFeats.head())"
      ]
    },
    {
      "cell_type": "code",
      "execution_count": 461,
      "metadata": {
        "colab": {
          "base_uri": "https://localhost:8080/",
          "height": 206
        },
        "id": "G285TG78Xa_B",
        "outputId": "98d3b269-9948-4159-eae3-1e7f4b42b9bb"
      },
      "outputs": [
        {
          "output_type": "display_data",
          "data": {
            "text/plain": [
              "   Revenue\n",
              "0        0\n",
              "1        0\n",
              "2        0\n",
              "3        0\n",
              "4        0"
            ],
            "text/html": [
              "\n",
              "  <div id=\"df-12b61f59-2421-4bd2-941a-2d7d964be95b\">\n",
              "    <div class=\"colab-df-container\">\n",
              "      <div>\n",
              "<style scoped>\n",
              "    .dataframe tbody tr th:only-of-type {\n",
              "        vertical-align: middle;\n",
              "    }\n",
              "\n",
              "    .dataframe tbody tr th {\n",
              "        vertical-align: top;\n",
              "    }\n",
              "\n",
              "    .dataframe thead th {\n",
              "        text-align: right;\n",
              "    }\n",
              "</style>\n",
              "<table border=\"1\" class=\"dataframe\">\n",
              "  <thead>\n",
              "    <tr style=\"text-align: right;\">\n",
              "      <th></th>\n",
              "      <th>Revenue</th>\n",
              "    </tr>\n",
              "  </thead>\n",
              "  <tbody>\n",
              "    <tr>\n",
              "      <th>0</th>\n",
              "      <td>0</td>\n",
              "    </tr>\n",
              "    <tr>\n",
              "      <th>1</th>\n",
              "      <td>0</td>\n",
              "    </tr>\n",
              "    <tr>\n",
              "      <th>2</th>\n",
              "      <td>0</td>\n",
              "    </tr>\n",
              "    <tr>\n",
              "      <th>3</th>\n",
              "      <td>0</td>\n",
              "    </tr>\n",
              "    <tr>\n",
              "      <th>4</th>\n",
              "      <td>0</td>\n",
              "    </tr>\n",
              "  </tbody>\n",
              "</table>\n",
              "</div>\n",
              "      <button class=\"colab-df-convert\" onclick=\"convertToInteractive('df-12b61f59-2421-4bd2-941a-2d7d964be95b')\"\n",
              "              title=\"Convert this dataframe to an interactive table.\"\n",
              "              style=\"display:none;\">\n",
              "        \n",
              "  <svg xmlns=\"http://www.w3.org/2000/svg\" height=\"24px\"viewBox=\"0 0 24 24\"\n",
              "       width=\"24px\">\n",
              "    <path d=\"M0 0h24v24H0V0z\" fill=\"none\"/>\n",
              "    <path d=\"M18.56 5.44l.94 2.06.94-2.06 2.06-.94-2.06-.94-.94-2.06-.94 2.06-2.06.94zm-11 1L8.5 8.5l.94-2.06 2.06-.94-2.06-.94L8.5 2.5l-.94 2.06-2.06.94zm10 10l.94 2.06.94-2.06 2.06-.94-2.06-.94-.94-2.06-.94 2.06-2.06.94z\"/><path d=\"M17.41 7.96l-1.37-1.37c-.4-.4-.92-.59-1.43-.59-.52 0-1.04.2-1.43.59L10.3 9.45l-7.72 7.72c-.78.78-.78 2.05 0 2.83L4 21.41c.39.39.9.59 1.41.59.51 0 1.02-.2 1.41-.59l7.78-7.78 2.81-2.81c.8-.78.8-2.07 0-2.86zM5.41 20L4 18.59l7.72-7.72 1.47 1.35L5.41 20z\"/>\n",
              "  </svg>\n",
              "      </button>\n",
              "      \n",
              "  <style>\n",
              "    .colab-df-container {\n",
              "      display:flex;\n",
              "      flex-wrap:wrap;\n",
              "      gap: 12px;\n",
              "    }\n",
              "\n",
              "    .colab-df-convert {\n",
              "      background-color: #E8F0FE;\n",
              "      border: none;\n",
              "      border-radius: 50%;\n",
              "      cursor: pointer;\n",
              "      display: none;\n",
              "      fill: #1967D2;\n",
              "      height: 32px;\n",
              "      padding: 0 0 0 0;\n",
              "      width: 32px;\n",
              "    }\n",
              "\n",
              "    .colab-df-convert:hover {\n",
              "      background-color: #E2EBFA;\n",
              "      box-shadow: 0px 1px 2px rgba(60, 64, 67, 0.3), 0px 1px 3px 1px rgba(60, 64, 67, 0.15);\n",
              "      fill: #174EA6;\n",
              "    }\n",
              "\n",
              "    [theme=dark] .colab-df-convert {\n",
              "      background-color: #3B4455;\n",
              "      fill: #D2E3FC;\n",
              "    }\n",
              "\n",
              "    [theme=dark] .colab-df-convert:hover {\n",
              "      background-color: #434B5C;\n",
              "      box-shadow: 0px 1px 3px 1px rgba(0, 0, 0, 0.15);\n",
              "      filter: drop-shadow(0px 1px 2px rgba(0, 0, 0, 0.3));\n",
              "      fill: #FFFFFF;\n",
              "    }\n",
              "  </style>\n",
              "\n",
              "      <script>\n",
              "        const buttonEl =\n",
              "          document.querySelector('#df-12b61f59-2421-4bd2-941a-2d7d964be95b button.colab-df-convert');\n",
              "        buttonEl.style.display =\n",
              "          google.colab.kernel.accessAllowed ? 'block' : 'none';\n",
              "\n",
              "        async function convertToInteractive(key) {\n",
              "          const element = document.querySelector('#df-12b61f59-2421-4bd2-941a-2d7d964be95b');\n",
              "          const dataTable =\n",
              "            await google.colab.kernel.invokeFunction('convertToInteractive',\n",
              "                                                     [key], {});\n",
              "          if (!dataTable) return;\n",
              "\n",
              "          const docLinkHtml = 'Like what you see? Visit the ' +\n",
              "            '<a target=\"_blank\" href=https://colab.research.google.com/notebooks/data_table.ipynb>data table notebook</a>'\n",
              "            + ' to learn more about interactive tables.';\n",
              "          element.innerHTML = '';\n",
              "          dataTable['output_type'] = 'display_data';\n",
              "          await google.colab.output.renderOutput(dataTable, element);\n",
              "          const docLink = document.createElement('div');\n",
              "          docLink.innerHTML = docLinkHtml;\n",
              "          element.appendChild(docLink);\n",
              "        }\n",
              "      </script>\n",
              "    </div>\n",
              "  </div>\n",
              "  "
            ]
          },
          "metadata": {}
        }
      ],
      "source": [
        "dfTarget = pd.read_csv(\"https://raw.githubusercontent.com/marceloccs/DL-PARA-PLV/main/OSI_target_e2.csv\", delimiter=\",\")\n",
        "display(dfTarget.head())"
      ]
    },
    {
      "cell_type": "code",
      "execution_count": 462,
      "metadata": {
        "id": "HU-6CHFk9ONM"
      },
      "outputs": [],
      "source": [
        "feats_train, feats_test, target_train, target_test = train_test_split(dfFeats,dfTarget, test_size=0.3, random_state=6)"
      ]
    },
    {
      "cell_type": "code",
      "execution_count": 463,
      "metadata": {
        "colab": {
          "base_uri": "https://localhost:8080/"
        },
        "id": "UVMoZy-v5UTV",
        "outputId": "862828e1-7fd9-499c-bb97-92f7da87363a"
      },
      "outputs": [
        {
          "output_type": "execute_result",
          "data": {
            "text/plain": [
              "(8631, 68)"
            ]
          },
          "metadata": {},
          "execution_count": 463
        }
      ],
      "source": [
        "feats_train.shape"
      ]
    },
    {
      "cell_type": "code",
      "execution_count": 464,
      "metadata": {
        "colab": {
          "base_uri": "https://localhost:8080/"
        },
        "id": "edwK5FVMVjvA",
        "outputId": "164199ec-e732-4d5d-fd56-69ffddd864da"
      },
      "outputs": [
        {
          "output_type": "execute_result",
          "data": {
            "text/plain": [
              "(8631, 1)"
            ]
          },
          "metadata": {},
          "execution_count": 464
        }
      ],
      "source": [
        "target_train.shape"
      ]
    },
    {
      "cell_type": "markdown",
      "metadata": {
        "id": "YKb4IZgEVtq6"
      },
      "source": [
        "## 2. Definir o modelo"
      ]
    },
    {
      "cell_type": "code",
      "execution_count": 465,
      "metadata": {
        "id": "oBXFMQ7KthGG"
      },
      "outputs": [],
      "source": [
        "from keras.models import Sequential\n",
        "model = Sequential()"
      ]
    },
    {
      "cell_type": "markdown",
      "metadata": {
        "id": "kgKkfXcGae-n"
      },
      "source": [
        "## 3. Adicione uma camada Dense com N neurônios, sendo N a quantidade de atributos. "
      ]
    },
    {
      "cell_type": "code",
      "execution_count": 466,
      "metadata": {
        "id": "0jRPVWJrae0v",
        "colab": {
          "base_uri": "https://localhost:8080/"
        },
        "outputId": "ec35a9f1-e4e5-4daa-9dea-af02689d1814"
      },
      "outputs": [
        {
          "output_type": "stream",
          "name": "stdout",
          "text": [
            "68\n"
          ]
        }
      ],
      "source": [
        "print(feats_train.shape[1])\n",
        "model.add(tf.keras.Input(shape=(feats_train.shape[1],)))\n",
        "model.add(Dense(feats_train.shape[1]/6, activation='relu'))\n"
      ]
    },
    {
      "cell_type": "markdown",
      "metadata": {
        "id": "z43c5CMRaoJY"
      },
      "source": [
        "## 4. Adicione uma função de ativação sigmoide; "
      ]
    },
    {
      "cell_type": "code",
      "execution_count": 467,
      "metadata": {
        "colab": {
          "base_uri": "https://localhost:8080/"
        },
        "id": "XI3FuCagao3Z",
        "outputId": "a25abf38-fa93-438a-be5c-4e6808793b76"
      },
      "outputs": [
        {
          "output_type": "stream",
          "name": "stdout",
          "text": [
            "Model: \"sequential_21\"\n",
            "_________________________________________________________________\n",
            " Layer (type)                Output Shape              Param #   \n",
            "=================================================================\n",
            " dense_146 (Dense)           (None, 11)                759       \n",
            "                                                                 \n",
            " dense_147 (Dense)           (None, 1)                 12        \n",
            "                                                                 \n",
            "=================================================================\n",
            "Total params: 771\n",
            "Trainable params: 771\n",
            "Non-trainable params: 0\n",
            "_________________________________________________________________\n"
          ]
        }
      ],
      "source": [
        "model.add(Dense(target_train.shape[1], activation='sigmoid'))\n",
        "model.summary()"
      ]
    },
    {
      "cell_type": "markdown",
      "metadata": {
        "id": "I_6COS2QaTDI"
      },
      "source": [
        "## 5. Compile o modelo especificando o otimizador, a métrica de loss para avaliar, e quaisquer outras métricas para avaliar depois de cada época; "
      ]
    },
    {
      "cell_type": "code",
      "execution_count": 474,
      "metadata": {
        "id": "3t2J3Mms7zp8"
      },
      "outputs": [],
      "source": [
        "model.compile(loss='binary_crossentropy', optimizer='adam', metrics=['accuracy','MeanSquaredError'])"
      ]
    },
    {
      "cell_type": "markdown",
      "metadata": {
        "id": "Gch5kP2OaXS4"
      },
      "source": [
        "## 6. Ajuste o modelo aos dados de treinamento, especificando o número de épocas;"
      ]
    },
    {
      "cell_type": "code",
      "execution_count": 475,
      "metadata": {
        "colab": {
          "base_uri": "https://localhost:8080/"
        },
        "id": "Al1wF4ye73xm",
        "outputId": "21361ccb-07d6-4152-f52b-11b5df2b2698"
      },
      "outputs": [
        {
          "output_type": "stream",
          "name": "stdout",
          "text": [
            "Epoch 1/20\n",
            "864/864 [==============================] - 3s 2ms/step - loss: 0.6087 - accuracy: 0.8715 - mean_squared_error: 0.1077\n",
            "Epoch 2/20\n",
            "864/864 [==============================] - 2s 2ms/step - loss: 0.8032 - accuracy: 0.8586 - mean_squared_error: 0.1197\n",
            "Epoch 3/20\n",
            "864/864 [==============================] - 2s 2ms/step - loss: 0.6293 - accuracy: 0.8636 - mean_squared_error: 0.1117\n",
            "Epoch 4/20\n",
            "864/864 [==============================] - 2s 2ms/step - loss: 0.5483 - accuracy: 0.8677 - mean_squared_error: 0.1083\n",
            "Epoch 5/20\n",
            "864/864 [==============================] - 2s 2ms/step - loss: 0.5958 - accuracy: 0.8683 - mean_squared_error: 0.1079\n",
            "Epoch 6/20\n",
            "864/864 [==============================] - 2s 2ms/step - loss: 0.6859 - accuracy: 0.8649 - mean_squared_error: 0.1127\n",
            "Epoch 7/20\n",
            "864/864 [==============================] - 2s 2ms/step - loss: 0.6535 - accuracy: 0.8640 - mean_squared_error: 0.1121\n",
            "Epoch 8/20\n",
            "864/864 [==============================] - 2s 2ms/step - loss: 0.6410 - accuracy: 0.8700 - mean_squared_error: 0.1075\n",
            "Epoch 9/20\n",
            "864/864 [==============================] - 2s 2ms/step - loss: 0.5436 - accuracy: 0.8695 - mean_squared_error: 0.1057\n",
            "Epoch 10/20\n",
            "864/864 [==============================] - 2s 2ms/step - loss: 0.7124 - accuracy: 0.8662 - mean_squared_error: 0.1128\n",
            "Epoch 11/20\n",
            "864/864 [==============================] - 2s 2ms/step - loss: 0.6415 - accuracy: 0.8653 - mean_squared_error: 0.1119\n",
            "Epoch 12/20\n",
            "864/864 [==============================] - 2s 2ms/step - loss: 0.7908 - accuracy: 0.8641 - mean_squared_error: 0.1152\n",
            "Epoch 13/20\n",
            "864/864 [==============================] - 2s 2ms/step - loss: 0.6467 - accuracy: 0.8658 - mean_squared_error: 0.1118\n",
            "Epoch 14/20\n",
            "864/864 [==============================] - 2s 2ms/step - loss: 0.5637 - accuracy: 0.8654 - mean_squared_error: 0.1094\n",
            "Epoch 15/20\n",
            "864/864 [==============================] - 2s 2ms/step - loss: 0.8232 - accuracy: 0.8635 - mean_squared_error: 0.1136\n",
            "Epoch 16/20\n",
            "864/864 [==============================] - 2s 2ms/step - loss: 0.5415 - accuracy: 0.8695 - mean_squared_error: 0.1068\n",
            "Epoch 17/20\n",
            "864/864 [==============================] - 2s 2ms/step - loss: 0.5667 - accuracy: 0.8666 - mean_squared_error: 0.1074\n",
            "Epoch 18/20\n",
            "864/864 [==============================] - 2s 2ms/step - loss: 0.6267 - accuracy: 0.8672 - mean_squared_error: 0.1094\n",
            "Epoch 19/20\n",
            "864/864 [==============================] - 2s 2ms/step - loss: 0.5874 - accuracy: 0.8685 - mean_squared_error: 0.1080\n",
            "Epoch 20/20\n",
            "864/864 [==============================] - 2s 2ms/step - loss: 0.6406 - accuracy: 0.8675 - mean_squared_error: 0.1105\n"
          ]
        }
      ],
      "source": [
        "history = model.fit(x=feats_train,y=target_train, epochs=20, batch_size=10)"
      ]
    },
    {
      "cell_type": "markdown",
      "metadata": {
        "id": "esKYXOx6bpIx"
      },
      "source": [
        "## 7. Apresente o loss e outras métricas para cada época que serão avaliadas nos conjuntos de treinamento/avaliação; "
      ]
    },
    {
      "cell_type": "code",
      "execution_count": 477,
      "metadata": {
        "colab": {
          "base_uri": "https://localhost:8080/"
        },
        "id": "MmmDKedr76vF",
        "outputId": "6b20c6a7-eb99-4d69-890f-ce7730874912"
      },
      "outputs": [
        {
          "output_type": "stream",
          "name": "stdout",
          "text": [
            "270/270 [==============================] - 1s 3ms/step - loss: 0.3778 - accuracy: 0.8814 - mean_squared_error: 0.0934\n",
            "Acurácia: 88.14\n",
            "Função de perda: 0.38\n",
            "Media quadrada de erro: 0.09\n"
          ]
        }
      ],
      "source": [
        "loss, accuracy,funcaoPerda = model.evaluate(feats_train, target_train)\n",
        "print('Acurácia: %.2f' % (accuracy*100))\n",
        "print('Função de perda: %.2f' % loss)\n",
        "print('Media quadrada de erro: %.2f' % funcaoPerda)"
      ]
    },
    {
      "cell_type": "markdown",
      "metadata": {
        "id": "sEv22T2PdMc5"
      },
      "source": [
        "##8. Avalie o loss no conjunto de teste. "
      ]
    },
    {
      "cell_type": "code",
      "source": [
        "from sklearn.metrics import confusion_matrix, classification_report, accuracy_score, mean_squared_error,mean_absolute_error"
      ],
      "metadata": {
        "id": "uNJWSiQVONG1"
      },
      "execution_count": 478,
      "outputs": []
    },
    {
      "cell_type": "code",
      "source": [
        "def print_results(y_test, y_pred):\n",
        "  print('\\nClassification Report: \\n\\n', classification_report(y_test, y_pred))\n",
        "  print('\\nAccuracy Score: \\n\\n', accuracy_score(y_test, y_pred), '\\n')\n",
        "  print('\\nFunção de perda: \\n\\n', mean_absolute_error(y_test,y_pred),'\\n')\n",
        "  return"
      ],
      "metadata": {
        "id": "B9wVh6_MMTX-"
      },
      "execution_count": 479,
      "outputs": []
    },
    {
      "cell_type": "code",
      "execution_count": 480,
      "metadata": {
        "id": "P7EdRWz8_cV9",
        "colab": {
          "base_uri": "https://localhost:8080/"
        },
        "outputId": "4adb5c8f-e951-4447-b08b-8cfbf0a7a983"
      },
      "outputs": [
        {
          "output_type": "stream",
          "name": "stdout",
          "text": [
            "\n",
            "Classification Report: \n",
            "\n",
            "               precision    recall  f1-score   support\n",
            "\n",
            "           0       1.00      1.00      1.00      3699\n",
            "\n",
            "    accuracy                           1.00      3699\n",
            "   macro avg       1.00      1.00      1.00      3699\n",
            "weighted avg       1.00      1.00      1.00      3699\n",
            "\n",
            "\n",
            "Accuracy Score: \n",
            "\n",
            " 1.0 \n",
            "\n",
            "\n",
            "Função de perda: \n",
            "\n",
            " 0.0 \n",
            "\n"
          ]
        }
      ],
      "source": [
        "y_pred_one = np.argmax(model.predict(feats_test), axis=1)\n",
        "y_test_one = np.argmax(np.array(target_test), axis=1)\n",
        "\n",
        "print_results(y_test_one, y_pred_one)"
      ]
    },
    {
      "cell_type": "markdown",
      "source": [
        "## Conclusão\n",
        "O algoritmo apresentou uma boa performance referente ao modele apresentado para teste e validação.\n"
      ],
      "metadata": {
        "id": "vP3b9tMaWWB1"
      }
    }
  ],
  "metadata": {
    "colab": {
      "collapsed_sections": [
        "PfOciqM_thZ1",
        "JrAUMu8Au6EN"
      ],
      "name": "DL_Trilha2_Ferramentas.ipynb",
      "provenance": [],
      "include_colab_link": true
    },
    "kernelspec": {
      "display_name": "Python 3",
      "name": "python3"
    }
  },
  "nbformat": 4,
  "nbformat_minor": 0
}