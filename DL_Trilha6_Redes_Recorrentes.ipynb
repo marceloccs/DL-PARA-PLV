{
  "nbformat": 4,
  "nbformat_minor": 0,
  "metadata": {
    "colab": {
      "name": "DL_Trilha6_Redes_Recorrentes.ipynb",
      "provenance": [],
      "collapsed_sections": [],
      "include_colab_link": true
    },
    "kernelspec": {
      "name": "python3",
      "display_name": "Python 3"
    },
    "language_info": {
      "name": "python"
    }
  },
  "cells": [
    {
      "cell_type": "markdown",
      "metadata": {
        "id": "view-in-github",
        "colab_type": "text"
      },
      "source": [
        "<a href=\"https://colab.research.google.com/github/marceloccs/DL-PARA-PLV/blob/main/DL_Trilha6_Redes_Recorrentes.ipynb\" target=\"_parent\"><img src=\"https://colab.research.google.com/assets/colab-badge.svg\" alt=\"Open In Colab\"/></a>"
      ]
    },
    {
      "cell_type": "markdown",
      "source": [
        "#**Nome:** Marcelo Custodio Cruz Silva\n",
        "\n",
        "##**Matricula:** 92123341\n",
        "\n",
        "---\n",
        "\n",
        "##**Curso:** Inteligencia Artificial\n",
        "\n",
        "##**Turma:** B\n",
        "\n",
        "*Link do arquivo no google colabs: https://drive.google.com/file/d/1nIR3WfiO2FcawdMTV6b69N0pclEWJQtO/view?usp=sharing*\n",
        "\n",
        "*Link do arquivo no github: https://github.com* \n",
        "\n"
      ],
      "metadata": {
        "id": "dCW5dNILJR0e"
      }
    },
    {
      "cell_type": "markdown",
      "source": [
        "Nesta tarefa, você deverá desenvolver um categorizador de notícias utilizando redes neurais recorrentes. Para isso, utilize o conjunto de dados Reuters presente nativamente no TensorFlow-Keras, *podendo carregá-lo desta forma (sugestão)*: \n",
        "\n",
        "```\n",
        "from keras.datasets import reuters \n",
        "\n",
        "(X_train, y_train), (X_test, y_test) = reuters.load_data(num_words=10000)\n",
        "```\n",
        "\n",
        "Queremos avaliar a sua criatividade na formatação e solução do problema. Sendo assim, você poderá decidir sobre as técnicas e pré-processamento, os algoritmos **(SimpleRNN ou LSTM)** e a quantidade de **classes (2 ou 46)** que mais achar apropriado. Ao final, **apresente a acurácia do modelo**, buscando resultados superiores a **80% de acertos**. "
      ],
      "metadata": {
        "id": "ttdXZoBQJZc6"
      }
    },
    {
      "cell_type": "code",
      "metadata": {
        "id": "4K-ksX3sAHf8"
      },
      "source": [
        "import numpy as np\n",
        "from sklearn.metrics import accuracy_score"
      ],
      "execution_count": 103,
      "outputs": []
    },
    {
      "cell_type": "code",
      "metadata": {
        "id": "zFrgKXHgALlB"
      },
      "source": [
        "import tensorflow as tf\n",
        "from tensorflow import keras\n",
        "from tensorflow.keras import preprocessing\n",
        "from tensorflow.keras.preprocessing.text import text_to_word_sequence\n",
        "from keras.datasets import reuters"
      ],
      "execution_count": 104,
      "outputs": []
    },
    {
      "cell_type": "code",
      "metadata": {
        "id": "K8Wk2ETPA7lf"
      },
      "source": [
        "from tensorflow.keras.models import Sequential\n",
        "from tensorflow.keras.layers import LSTM\n",
        "from tensorflow.keras.layers import SpatialDropout1D, Dropout, Dense, Embedding, SimpleRNN\n",
        "from tensorflow.keras import models, regularizers, layers, optimizers, losses, metrics"
      ],
      "execution_count": 105,
      "outputs": []
    },
    {
      "cell_type": "markdown",
      "source": [
        "# 1. Carregar os dados"
      ],
      "metadata": {
        "id": "tb2k0w4zQFeV"
      }
    },
    {
      "cell_type": "code",
      "metadata": {
        "id": "Ec9B6FJAAQlj"
      },
      "source": [
        "vocab = 1000\n",
        "(X_train, y_train), (X_test, y_test) = reuters.load_data(num_words=vocab)"
      ],
      "execution_count": 106,
      "outputs": []
    },
    {
      "cell_type": "code",
      "metadata": {
        "id": "XsAp_5_wGglK"
      },
      "source": [
        "word_map = reuters.get_word_index()"
      ],
      "execution_count": 107,
      "outputs": []
    },
    {
      "cell_type": "markdown",
      "source": [
        "# 2. Pré-processar os dados de entrada"
      ],
      "metadata": {
        "id": "y2hH85u-QOg7"
      }
    },
    {
      "cell_type": "code",
      "metadata": {
        "id": "-cErw-4AAQu4"
      },
      "source": [
        "X_train = preprocessing.sequence.pad_sequences(X_train, maxlen=200)\n",
        "X_test = preprocessing.sequence.pad_sequences(X_test, maxlen=200)"
      ],
      "execution_count": 108,
      "outputs": []
    },
    {
      "cell_type": "markdown",
      "source": [
        "# 3. Construir o modelo"
      ],
      "metadata": {
        "id": "bwgUlc5dQRWG"
      }
    },
    {
      "cell_type": "code",
      "metadata": {
        "id": "nuXbkVbRAQ44"
      },
      "source": [
        "model = Sequential()\n",
        "\n",
        "model.add(Embedding(vocab, output_dim=46))\n",
        "model.add(SpatialDropout1D(0.4))\n",
        "\n",
        "model.add(LSTM(32))\n",
        "model.add(Dropout(0.4))\n",
        "\n",
        "model.add(Dense(np.unique(y_test).shape[0], activation='softmax'))"
      ],
      "execution_count": 112,
      "outputs": []
    },
    {
      "cell_type": "markdown",
      "source": [
        "# 4. Compilar o modelo"
      ],
      "metadata": {
        "id": "t1htwh3CQUIz"
      }
    },
    {
      "cell_type": "code",
      "metadata": {
        "id": "Z0v8y6aSAaEo",
        "colab": {
          "base_uri": "https://localhost:8080/"
        },
        "outputId": "016e224e-11d2-4518-b28b-b7655777a5e0"
      },
      "source": [
        "model.compile(loss='sparse_categorical_crossentropy', optimizer='rmsprop', metrics=['accuracy'])\n",
        "model.summary()"
      ],
      "execution_count": 113,
      "outputs": [
        {
          "output_type": "stream",
          "name": "stdout",
          "text": [
            "Model: \"sequential_6\"\n",
            "_________________________________________________________________\n",
            " Layer (type)                Output Shape              Param #   \n",
            "=================================================================\n",
            " embedding_6 (Embedding)     (None, None, 46)          46000     \n",
            "                                                                 \n",
            " spatial_dropout1d_6 (Spatia  (None, None, 46)         0         \n",
            " lDropout1D)                                                     \n",
            "                                                                 \n",
            " lstm_6 (LSTM)               (None, 32)                10112     \n",
            "                                                                 \n",
            " dropout_6 (Dropout)         (None, 32)                0         \n",
            "                                                                 \n",
            " dense_6 (Dense)             (None, 46)                1518      \n",
            "                                                                 \n",
            "=================================================================\n",
            "Total params: 57,630\n",
            "Trainable params: 57,630\n",
            "Non-trainable params: 0\n",
            "_________________________________________________________________\n"
          ]
        }
      ]
    },
    {
      "cell_type": "markdown",
      "source": [
        "# 5. Ajustar o modelos aos dados de treinamento"
      ],
      "metadata": {
        "id": "YgrXJpwoQYdD"
      }
    },
    {
      "cell_type": "code",
      "metadata": {
        "id": "WwPi8fbCAh0G",
        "colab": {
          "base_uri": "https://localhost:8080/"
        },
        "outputId": "b5d35ad5-c2e3-4d3c-e301-f66082bc9f4f"
      },
      "source": [
        "model.fit(X_train, y_train, batch_size=52, epochs=150)"
      ],
      "execution_count": 114,
      "outputs": [
        {
          "output_type": "stream",
          "name": "stdout",
          "text": [
            "Epoch 1/200\n",
            "173/173 [==============================] - 18s 94ms/step - loss: 2.5196 - accuracy: 0.3731\n",
            "Epoch 2/200\n",
            "173/173 [==============================] - 16s 94ms/step - loss: 1.9966 - accuracy: 0.4731\n",
            "Epoch 3/200\n",
            "173/173 [==============================] - 16s 95ms/step - loss: 1.8527 - accuracy: 0.5095\n",
            "Epoch 4/200\n",
            "173/173 [==============================] - 17s 97ms/step - loss: 1.7662 - accuracy: 0.5403\n",
            "Epoch 5/200\n",
            "173/173 [==============================] - 16s 94ms/step - loss: 1.7052 - accuracy: 0.5580\n",
            "Epoch 6/200\n",
            "173/173 [==============================] - 16s 95ms/step - loss: 1.6575 - accuracy: 0.5688\n",
            "Epoch 7/200\n",
            "173/173 [==============================] - 16s 95ms/step - loss: 1.6161 - accuracy: 0.5754\n",
            "Epoch 8/200\n",
            "173/173 [==============================] - 16s 95ms/step - loss: 1.5963 - accuracy: 0.5861\n",
            "Epoch 9/200\n",
            "173/173 [==============================] - 16s 95ms/step - loss: 1.5635 - accuracy: 0.5957\n",
            "Epoch 10/200\n",
            "173/173 [==============================] - 16s 94ms/step - loss: 1.5434 - accuracy: 0.5980\n",
            "Epoch 11/200\n",
            "173/173 [==============================] - 16s 95ms/step - loss: 1.5169 - accuracy: 0.6070\n",
            "Epoch 12/200\n",
            "173/173 [==============================] - 16s 95ms/step - loss: 1.4768 - accuracy: 0.6189\n",
            "Epoch 13/200\n",
            "173/173 [==============================] - 16s 95ms/step - loss: 1.4623 - accuracy: 0.6237\n",
            "Epoch 14/200\n",
            "173/173 [==============================] - 16s 94ms/step - loss: 1.4316 - accuracy: 0.6374\n",
            "Epoch 15/200\n",
            "173/173 [==============================] - 16s 95ms/step - loss: 1.4054 - accuracy: 0.6421\n",
            "Epoch 16/200\n",
            "173/173 [==============================] - 16s 95ms/step - loss: 1.3654 - accuracy: 0.6552\n",
            "Epoch 17/200\n",
            "173/173 [==============================] - 16s 95ms/step - loss: 1.3474 - accuracy: 0.6624\n",
            "Epoch 18/200\n",
            "173/173 [==============================] - 16s 93ms/step - loss: 1.3270 - accuracy: 0.6701\n",
            "Epoch 19/200\n",
            "173/173 [==============================] - 16s 94ms/step - loss: 1.2944 - accuracy: 0.6830\n",
            "Epoch 20/200\n",
            "173/173 [==============================] - 16s 95ms/step - loss: 1.2672 - accuracy: 0.6942\n",
            "Epoch 21/200\n",
            "173/173 [==============================] - 16s 94ms/step - loss: 1.2559 - accuracy: 0.6937\n",
            "Epoch 22/200\n",
            "173/173 [==============================] - 16s 95ms/step - loss: 1.2261 - accuracy: 0.6994\n",
            "Epoch 23/200\n",
            "173/173 [==============================] - 16s 95ms/step - loss: 1.2131 - accuracy: 0.7021\n",
            "Epoch 24/200\n",
            "173/173 [==============================] - 16s 95ms/step - loss: 1.1897 - accuracy: 0.7085\n",
            "Epoch 25/200\n",
            "173/173 [==============================] - 16s 95ms/step - loss: 1.1820 - accuracy: 0.7118\n",
            "Epoch 26/200\n",
            "173/173 [==============================] - 16s 95ms/step - loss: 1.1683 - accuracy: 0.7125\n",
            "Epoch 27/200\n",
            "173/173 [==============================] - 16s 95ms/step - loss: 1.1618 - accuracy: 0.7121\n",
            "Epoch 28/200\n",
            "173/173 [==============================] - 16s 95ms/step - loss: 1.1492 - accuracy: 0.7157\n",
            "Epoch 29/200\n",
            "173/173 [==============================] - 17s 96ms/step - loss: 1.1373 - accuracy: 0.7192\n",
            "Epoch 30/200\n",
            "173/173 [==============================] - 16s 95ms/step - loss: 1.1134 - accuracy: 0.7258\n",
            "Epoch 31/200\n",
            "173/173 [==============================] - 16s 95ms/step - loss: 1.1077 - accuracy: 0.7289\n",
            "Epoch 32/200\n",
            "173/173 [==============================] - 16s 95ms/step - loss: 1.0991 - accuracy: 0.7277\n",
            "Epoch 33/200\n",
            "173/173 [==============================] - 16s 95ms/step - loss: 1.0968 - accuracy: 0.7275\n",
            "Epoch 34/200\n",
            "173/173 [==============================] - 16s 95ms/step - loss: 1.0757 - accuracy: 0.7355\n",
            "Epoch 35/200\n",
            "173/173 [==============================] - 16s 95ms/step - loss: 1.0715 - accuracy: 0.7381\n",
            "Epoch 36/200\n",
            "173/173 [==============================] - 17s 95ms/step - loss: 1.0729 - accuracy: 0.7388\n",
            "Epoch 37/200\n",
            "173/173 [==============================] - 16s 95ms/step - loss: 1.0490 - accuracy: 0.7417\n",
            "Epoch 38/200\n",
            "173/173 [==============================] - 17s 96ms/step - loss: 1.0469 - accuracy: 0.7447\n",
            "Epoch 39/200\n",
            "173/173 [==============================] - 16s 95ms/step - loss: 1.0393 - accuracy: 0.7473\n",
            "Epoch 40/200\n",
            "173/173 [==============================] - 17s 96ms/step - loss: 1.0282 - accuracy: 0.7457\n",
            "Epoch 41/200\n",
            "173/173 [==============================] - 16s 94ms/step - loss: 1.0242 - accuracy: 0.7503\n",
            "Epoch 42/200\n",
            "173/173 [==============================] - 16s 95ms/step - loss: 1.0227 - accuracy: 0.7540\n",
            "Epoch 43/200\n",
            "173/173 [==============================] - 16s 95ms/step - loss: 1.0137 - accuracy: 0.7571\n",
            "Epoch 44/200\n",
            "173/173 [==============================] - 16s 93ms/step - loss: 1.0055 - accuracy: 0.7589\n",
            "Epoch 45/200\n",
            "173/173 [==============================] - 16s 94ms/step - loss: 0.9851 - accuracy: 0.7620\n",
            "Epoch 46/200\n",
            "173/173 [==============================] - 16s 94ms/step - loss: 0.9939 - accuracy: 0.7622\n",
            "Epoch 47/200\n",
            "173/173 [==============================] - 16s 94ms/step - loss: 0.9846 - accuracy: 0.7621\n",
            "Epoch 48/200\n",
            "173/173 [==============================] - 16s 94ms/step - loss: 0.9845 - accuracy: 0.7672\n",
            "Epoch 49/200\n",
            "173/173 [==============================] - 16s 94ms/step - loss: 0.9660 - accuracy: 0.7675\n",
            "Epoch 50/200\n",
            "173/173 [==============================] - 16s 94ms/step - loss: 0.9579 - accuracy: 0.7709\n",
            "Epoch 51/200\n",
            "173/173 [==============================] - 16s 94ms/step - loss: 0.9648 - accuracy: 0.7705\n",
            "Epoch 52/200\n",
            "173/173 [==============================] - 16s 95ms/step - loss: 0.9557 - accuracy: 0.7710\n",
            "Epoch 53/200\n",
            "173/173 [==============================] - 16s 95ms/step - loss: 0.9647 - accuracy: 0.7651\n",
            "Epoch 54/200\n",
            "173/173 [==============================] - 16s 95ms/step - loss: 0.9594 - accuracy: 0.7688\n",
            "Epoch 55/200\n",
            "173/173 [==============================] - 17s 95ms/step - loss: 0.9398 - accuracy: 0.7784\n",
            "Epoch 56/200\n",
            "173/173 [==============================] - 16s 93ms/step - loss: 0.9416 - accuracy: 0.7742\n",
            "Epoch 57/200\n",
            "173/173 [==============================] - 16s 94ms/step - loss: 0.9313 - accuracy: 0.7801\n",
            "Epoch 58/200\n",
            "173/173 [==============================] - 16s 95ms/step - loss: 0.9226 - accuracy: 0.7773\n",
            "Epoch 59/200\n",
            "173/173 [==============================] - 16s 94ms/step - loss: 0.9262 - accuracy: 0.7806\n",
            "Epoch 60/200\n",
            "173/173 [==============================] - 16s 95ms/step - loss: 0.9359 - accuracy: 0.7768\n",
            "Epoch 61/200\n",
            "173/173 [==============================] - 16s 94ms/step - loss: 0.9244 - accuracy: 0.7839\n",
            "Epoch 62/200\n",
            "173/173 [==============================] - 16s 95ms/step - loss: 0.9057 - accuracy: 0.7840\n",
            "Epoch 63/200\n",
            "173/173 [==============================] - 16s 95ms/step - loss: 0.9206 - accuracy: 0.7822\n",
            "Epoch 64/200\n",
            "173/173 [==============================] - 16s 95ms/step - loss: 0.9095 - accuracy: 0.7829\n",
            "Epoch 65/200\n",
            "173/173 [==============================] - 16s 94ms/step - loss: 0.9141 - accuracy: 0.7808\n",
            "Epoch 66/200\n",
            "173/173 [==============================] - 16s 94ms/step - loss: 0.9056 - accuracy: 0.7835\n",
            "Epoch 67/200\n",
            "173/173 [==============================] - 16s 95ms/step - loss: 0.8953 - accuracy: 0.7898\n",
            "Epoch 68/200\n",
            "173/173 [==============================] - 16s 95ms/step - loss: 0.8908 - accuracy: 0.7869\n",
            "Epoch 69/200\n",
            "173/173 [==============================] - 17s 96ms/step - loss: 0.8818 - accuracy: 0.7925\n",
            "Epoch 70/200\n",
            "173/173 [==============================] - 17s 96ms/step - loss: 0.8966 - accuracy: 0.7867\n",
            "Epoch 71/200\n",
            "173/173 [==============================] - 17s 96ms/step - loss: 0.8888 - accuracy: 0.7887\n",
            "Epoch 72/200\n",
            "173/173 [==============================] - 16s 95ms/step - loss: 0.8895 - accuracy: 0.7911\n",
            "Epoch 73/200\n",
            "173/173 [==============================] - 16s 95ms/step - loss: 0.8818 - accuracy: 0.7914\n",
            "Epoch 74/200\n",
            "173/173 [==============================] - 17s 96ms/step - loss: 0.8780 - accuracy: 0.7909\n",
            "Epoch 75/200\n",
            "173/173 [==============================] - 16s 94ms/step - loss: 0.8768 - accuracy: 0.7936\n",
            "Epoch 76/200\n",
            "173/173 [==============================] - 16s 94ms/step - loss: 0.8671 - accuracy: 0.7934\n",
            "Epoch 77/200\n",
            "173/173 [==============================] - 17s 96ms/step - loss: 0.8828 - accuracy: 0.7934\n",
            "Epoch 78/200\n",
            "173/173 [==============================] - 17s 96ms/step - loss: 0.8600 - accuracy: 0.7953\n",
            "Epoch 79/200\n",
            "173/173 [==============================] - 16s 95ms/step - loss: 0.8579 - accuracy: 0.7964\n",
            "Epoch 80/200\n",
            "173/173 [==============================] - 16s 95ms/step - loss: 0.8647 - accuracy: 0.7955\n",
            "Epoch 81/200\n",
            "173/173 [==============================] - 16s 94ms/step - loss: 0.8693 - accuracy: 0.7945\n",
            "Epoch 82/200\n",
            "173/173 [==============================] - 16s 94ms/step - loss: 0.8586 - accuracy: 0.7912\n",
            "Epoch 83/200\n",
            "173/173 [==============================] - 16s 94ms/step - loss: 0.8504 - accuracy: 0.8019\n",
            "Epoch 84/200\n",
            "173/173 [==============================] - 16s 95ms/step - loss: 0.8495 - accuracy: 0.8018\n",
            "Epoch 85/200\n",
            "173/173 [==============================] - 16s 95ms/step - loss: 0.8476 - accuracy: 0.8017\n",
            "Epoch 86/200\n",
            "173/173 [==============================] - 16s 95ms/step - loss: 0.8546 - accuracy: 0.7995\n",
            "Epoch 87/200\n",
            "173/173 [==============================] - 17s 96ms/step - loss: 0.8402 - accuracy: 0.8016\n",
            "Epoch 88/200\n",
            "173/173 [==============================] - 17s 96ms/step - loss: 0.8382 - accuracy: 0.8045\n",
            "Epoch 89/200\n",
            "173/173 [==============================] - 17s 96ms/step - loss: 0.8373 - accuracy: 0.8041\n",
            "Epoch 90/200\n",
            "173/173 [==============================] - 16s 94ms/step - loss: 0.8384 - accuracy: 0.8034\n",
            "Epoch 91/200\n",
            "173/173 [==============================] - 16s 95ms/step - loss: 0.8221 - accuracy: 0.8056\n",
            "Epoch 92/200\n",
            "173/173 [==============================] - 17s 95ms/step - loss: 0.8433 - accuracy: 0.8025\n",
            "Epoch 93/200\n",
            "173/173 [==============================] - 17s 96ms/step - loss: 0.8409 - accuracy: 0.8031\n",
            "Epoch 94/200\n",
            "173/173 [==============================] - 17s 96ms/step - loss: 0.8286 - accuracy: 0.8048\n",
            "Epoch 95/200\n",
            "173/173 [==============================] - 16s 95ms/step - loss: 0.8221 - accuracy: 0.8054\n",
            "Epoch 96/200\n",
            "173/173 [==============================] - 16s 95ms/step - loss: 0.8303 - accuracy: 0.8075\n",
            "Epoch 97/200\n",
            "173/173 [==============================] - 16s 95ms/step - loss: 0.8280 - accuracy: 0.8052\n",
            "Epoch 98/200\n",
            "173/173 [==============================] - 17s 96ms/step - loss: 0.8317 - accuracy: 0.8075\n",
            "Epoch 99/200\n",
            "173/173 [==============================] - 16s 95ms/step - loss: 0.8269 - accuracy: 0.8031\n",
            "Epoch 100/200\n",
            "173/173 [==============================] - 16s 95ms/step - loss: 0.8263 - accuracy: 0.8023\n",
            "Epoch 101/200\n",
            "173/173 [==============================] - 17s 97ms/step - loss: 0.8186 - accuracy: 0.8056\n",
            "Epoch 102/200\n",
            "173/173 [==============================] - 16s 95ms/step - loss: 0.8145 - accuracy: 0.8087\n",
            "Epoch 103/200\n",
            "173/173 [==============================] - 16s 95ms/step - loss: 0.8141 - accuracy: 0.8067\n",
            "Epoch 104/200\n",
            "173/173 [==============================] - 16s 95ms/step - loss: 0.8086 - accuracy: 0.8098\n",
            "Epoch 105/200\n",
            "173/173 [==============================] - 17s 96ms/step - loss: 0.8079 - accuracy: 0.8111\n",
            "Epoch 106/200\n",
            "173/173 [==============================] - 16s 95ms/step - loss: 0.8007 - accuracy: 0.8162\n",
            "Epoch 107/200\n",
            "173/173 [==============================] - 16s 95ms/step - loss: 0.8127 - accuracy: 0.8061\n",
            "Epoch 108/200\n",
            "173/173 [==============================] - 17s 96ms/step - loss: 0.8044 - accuracy: 0.8137\n",
            "Epoch 109/200\n",
            "173/173 [==============================] - 16s 95ms/step - loss: 0.8003 - accuracy: 0.8135\n",
            "Epoch 110/200\n",
            "173/173 [==============================] - 16s 95ms/step - loss: 0.8186 - accuracy: 0.8123\n",
            "Epoch 111/200\n",
            "173/173 [==============================] - 16s 95ms/step - loss: 0.7938 - accuracy: 0.8171\n",
            "Epoch 112/200\n",
            "173/173 [==============================] - 17s 95ms/step - loss: 0.7968 - accuracy: 0.8163\n",
            "Epoch 113/200\n",
            "173/173 [==============================] - 16s 95ms/step - loss: 0.7984 - accuracy: 0.8164\n",
            "Epoch 114/200\n",
            "173/173 [==============================] - 16s 95ms/step - loss: 0.8046 - accuracy: 0.8141\n",
            "Epoch 115/200\n",
            "173/173 [==============================] - 17s 96ms/step - loss: 0.7909 - accuracy: 0.8149\n",
            "Epoch 116/200\n",
            "173/173 [==============================] - 17s 97ms/step - loss: 0.8024 - accuracy: 0.8123\n",
            "Epoch 117/200\n",
            "173/173 [==============================] - 17s 97ms/step - loss: 0.7943 - accuracy: 0.8121\n",
            "Epoch 118/200\n",
            "173/173 [==============================] - 17s 97ms/step - loss: 0.7829 - accuracy: 0.8159\n",
            "Epoch 119/200\n",
            "173/173 [==============================] - 17s 97ms/step - loss: 0.7775 - accuracy: 0.8180\n",
            "Epoch 120/200\n",
            "173/173 [==============================] - 17s 98ms/step - loss: 0.7942 - accuracy: 0.8138\n",
            "Epoch 121/200\n",
            "173/173 [==============================] - 17s 98ms/step - loss: 0.7891 - accuracy: 0.8169\n",
            "Epoch 122/200\n",
            "173/173 [==============================] - 17s 97ms/step - loss: 0.7732 - accuracy: 0.8204\n",
            "Epoch 123/200\n",
            "173/173 [==============================] - 17s 98ms/step - loss: 0.7830 - accuracy: 0.8203\n",
            "Epoch 124/200\n",
            "173/173 [==============================] - 17s 97ms/step - loss: 0.7883 - accuracy: 0.8190\n",
            "Epoch 125/200\n",
            "173/173 [==============================] - 17s 98ms/step - loss: 0.7777 - accuracy: 0.8194\n",
            "Epoch 126/200\n",
            "173/173 [==============================] - 17s 98ms/step - loss: 0.7793 - accuracy: 0.8172\n",
            "Epoch 127/200\n",
            "173/173 [==============================] - 17s 98ms/step - loss: 0.7570 - accuracy: 0.8240\n",
            "Epoch 128/200\n",
            "173/173 [==============================] - 17s 99ms/step - loss: 0.7849 - accuracy: 0.8183\n",
            "Epoch 129/200\n",
            "173/173 [==============================] - 17s 97ms/step - loss: 0.7750 - accuracy: 0.8201\n",
            "Epoch 130/200\n",
            "173/173 [==============================] - 17s 97ms/step - loss: 0.7767 - accuracy: 0.8205\n",
            "Epoch 131/200\n",
            "173/173 [==============================] - 17s 98ms/step - loss: 0.7631 - accuracy: 0.8257\n",
            "Epoch 132/200\n",
            "173/173 [==============================] - 17s 97ms/step - loss: 0.7638 - accuracy: 0.8231\n",
            "Epoch 133/200\n",
            "173/173 [==============================] - 17s 98ms/step - loss: 0.7518 - accuracy: 0.8269\n",
            "Epoch 134/200\n",
            "173/173 [==============================] - 17s 98ms/step - loss: 0.7612 - accuracy: 0.8253\n",
            "Epoch 135/200\n",
            "173/173 [==============================] - 17s 98ms/step - loss: 0.7554 - accuracy: 0.8212\n",
            "Epoch 136/200\n",
            "173/173 [==============================] - 17s 97ms/step - loss: 0.7582 - accuracy: 0.8268\n",
            "Epoch 137/200\n",
            "173/173 [==============================] - 17s 97ms/step - loss: 0.7557 - accuracy: 0.8244\n",
            "Epoch 138/200\n",
            "173/173 [==============================] - 17s 98ms/step - loss: 0.7545 - accuracy: 0.8235\n",
            "Epoch 139/200\n",
            "173/173 [==============================] - 17s 97ms/step - loss: 0.7523 - accuracy: 0.8229\n",
            "Epoch 140/200\n",
            "173/173 [==============================] - 17s 97ms/step - loss: 0.7618 - accuracy: 0.8260\n",
            "Epoch 141/200\n",
            "173/173 [==============================] - 17s 98ms/step - loss: 0.7394 - accuracy: 0.8269\n",
            "Epoch 142/200\n",
            "173/173 [==============================] - 17s 97ms/step - loss: 0.7436 - accuracy: 0.8265\n",
            "Epoch 143/200\n",
            "173/173 [==============================] - 17s 97ms/step - loss: 0.7416 - accuracy: 0.8275\n",
            "Epoch 144/200\n",
            "173/173 [==============================] - 17s 99ms/step - loss: 0.7504 - accuracy: 0.8275\n",
            "Epoch 145/200\n",
            "173/173 [==============================] - 17s 97ms/step - loss: 0.7371 - accuracy: 0.8322\n",
            "Epoch 146/200\n",
            "173/173 [==============================] - 17s 98ms/step - loss: 0.7331 - accuracy: 0.8337\n",
            "Epoch 147/200\n",
            "173/173 [==============================] - 17s 98ms/step - loss: 0.7447 - accuracy: 0.8303\n",
            "Epoch 148/200\n",
            "173/173 [==============================] - 17s 99ms/step - loss: 0.7505 - accuracy: 0.8268\n",
            "Epoch 149/200\n",
            "173/173 [==============================] - 17s 98ms/step - loss: 0.7446 - accuracy: 0.8282\n",
            "Epoch 150/200\n",
            "173/173 [==============================] - 17s 98ms/step - loss: 0.7484 - accuracy: 0.8280\n",
            "Epoch 151/200\n",
            "173/173 [==============================] - 17s 99ms/step - loss: 0.7352 - accuracy: 0.8293\n",
            "Epoch 152/200\n",
            "173/173 [==============================] - 17s 97ms/step - loss: 0.7344 - accuracy: 0.8300\n",
            "Epoch 153/200\n",
            "173/173 [==============================] - 17s 97ms/step - loss: 0.7290 - accuracy: 0.8319\n",
            "Epoch 154/200\n",
            "173/173 [==============================] - 17s 97ms/step - loss: 0.7338 - accuracy: 0.8327\n",
            "Epoch 155/200\n",
            "173/173 [==============================] - 17s 97ms/step - loss: 0.7348 - accuracy: 0.8274\n",
            "Epoch 156/200\n",
            "173/173 [==============================] - 17s 98ms/step - loss: 0.7348 - accuracy: 0.8328\n",
            "Epoch 157/200\n",
            "173/173 [==============================] - 17s 97ms/step - loss: 0.7403 - accuracy: 0.8351\n",
            "Epoch 158/200\n",
            "173/173 [==============================] - 17s 99ms/step - loss: 0.7247 - accuracy: 0.8358\n",
            "Epoch 159/200\n",
            "173/173 [==============================] - 17s 98ms/step - loss: 0.7309 - accuracy: 0.8357\n",
            "Epoch 160/200\n",
            "173/173 [==============================] - 17s 97ms/step - loss: 0.7260 - accuracy: 0.8329\n",
            "Epoch 161/200\n",
            "173/173 [==============================] - 17s 97ms/step - loss: 0.7206 - accuracy: 0.8379\n",
            "Epoch 162/200\n",
            "173/173 [==============================] - 17s 98ms/step - loss: 0.7132 - accuracy: 0.8342\n",
            "Epoch 163/200\n",
            "173/173 [==============================] - 17s 97ms/step - loss: 0.7265 - accuracy: 0.8357\n",
            "Epoch 164/200\n",
            "173/173 [==============================] - 17s 98ms/step - loss: 0.7220 - accuracy: 0.8354\n",
            "Epoch 165/200\n",
            "173/173 [==============================] - 17s 97ms/step - loss: 0.7289 - accuracy: 0.8340\n",
            "Epoch 166/200\n",
            "173/173 [==============================] - 17s 98ms/step - loss: 0.7241 - accuracy: 0.8359\n",
            "Epoch 167/200\n",
            "173/173 [==============================] - 17s 99ms/step - loss: 0.7192 - accuracy: 0.8380\n",
            "Epoch 168/200\n",
            "173/173 [==============================] - 17s 98ms/step - loss: 0.7157 - accuracy: 0.8382\n",
            "Epoch 169/200\n",
            "173/173 [==============================] - 17s 98ms/step - loss: 0.7047 - accuracy: 0.8396\n",
            "Epoch 170/200\n",
            "173/173 [==============================] - 17s 97ms/step - loss: 0.7188 - accuracy: 0.8360\n",
            "Epoch 171/200\n",
            "173/173 [==============================] - 17s 97ms/step - loss: 0.7058 - accuracy: 0.8426\n",
            "Epoch 172/200\n",
            "173/173 [==============================] - 17s 98ms/step - loss: 0.6918 - accuracy: 0.8411\n",
            "Epoch 173/200\n",
            "173/173 [==============================] - 17s 98ms/step - loss: 0.7104 - accuracy: 0.8429\n",
            "Epoch 174/200\n",
            "173/173 [==============================] - 17s 98ms/step - loss: 0.6975 - accuracy: 0.8428\n",
            "Epoch 175/200\n",
            "173/173 [==============================] - 17s 97ms/step - loss: 0.7049 - accuracy: 0.8389\n",
            "Epoch 176/200\n",
            "173/173 [==============================] - 17s 97ms/step - loss: 0.7029 - accuracy: 0.8401\n",
            "Epoch 177/200\n",
            "173/173 [==============================] - 17s 97ms/step - loss: 0.7051 - accuracy: 0.8427\n",
            "Epoch 178/200\n",
            "173/173 [==============================] - 17s 97ms/step - loss: 0.7139 - accuracy: 0.8390\n",
            "Epoch 179/200\n",
            "173/173 [==============================] - 17s 97ms/step - loss: 0.6989 - accuracy: 0.8426\n",
            "Epoch 180/200\n",
            "173/173 [==============================] - 17s 98ms/step - loss: 0.7005 - accuracy: 0.8440\n",
            "Epoch 181/200\n",
            "173/173 [==============================] - 17s 98ms/step - loss: 0.7021 - accuracy: 0.8386\n",
            "Epoch 182/200\n",
            "173/173 [==============================] - 17s 99ms/step - loss: 0.7082 - accuracy: 0.8399\n",
            "Epoch 183/200\n",
            "173/173 [==============================] - 17s 99ms/step - loss: 0.7086 - accuracy: 0.8392\n",
            "Epoch 184/200\n",
            "173/173 [==============================] - 17s 99ms/step - loss: 0.6982 - accuracy: 0.8425\n",
            "Epoch 185/200\n",
            "173/173 [==============================] - 17s 100ms/step - loss: 0.6986 - accuracy: 0.8425\n",
            "Epoch 186/200\n",
            "173/173 [==============================] - 17s 98ms/step - loss: 0.6943 - accuracy: 0.8424\n",
            "Epoch 187/200\n",
            "173/173 [==============================] - 17s 101ms/step - loss: 0.6969 - accuracy: 0.8450\n",
            "Epoch 188/200\n",
            "173/173 [==============================] - 17s 101ms/step - loss: 0.6961 - accuracy: 0.8441\n",
            "Epoch 189/200\n",
            "173/173 [==============================] - 18s 101ms/step - loss: 0.6874 - accuracy: 0.8454\n",
            "Epoch 190/200\n",
            "173/173 [==============================] - 17s 101ms/step - loss: 0.6815 - accuracy: 0.8456\n",
            "Epoch 191/200\n",
            "173/173 [==============================] - 17s 101ms/step - loss: 0.6994 - accuracy: 0.8378\n",
            "Epoch 192/200\n",
            "173/173 [==============================] - 17s 101ms/step - loss: 0.6919 - accuracy: 0.8421\n",
            "Epoch 193/200\n",
            "173/173 [==============================] - 17s 101ms/step - loss: 0.6840 - accuracy: 0.8450\n",
            "Epoch 194/200\n",
            "173/173 [==============================] - 17s 100ms/step - loss: 0.6753 - accuracy: 0.8476\n",
            "Epoch 195/200\n",
            "173/173 [==============================] - 17s 100ms/step - loss: 0.6900 - accuracy: 0.8427\n",
            "Epoch 196/200\n",
            "173/173 [==============================] - 17s 101ms/step - loss: 0.6835 - accuracy: 0.8416\n",
            "Epoch 197/200\n",
            "173/173 [==============================] - 17s 101ms/step - loss: 0.6820 - accuracy: 0.8435\n",
            "Epoch 198/200\n",
            "173/173 [==============================] - 17s 100ms/step - loss: 0.6810 - accuracy: 0.8460\n",
            "Epoch 199/200\n",
            "173/173 [==============================] - 17s 101ms/step - loss: 0.6938 - accuracy: 0.8447\n",
            "Epoch 200/200\n",
            "173/173 [==============================] - 18s 101ms/step - loss: 0.6916 - accuracy: 0.8430\n"
          ]
        },
        {
          "output_type": "execute_result",
          "data": {
            "text/plain": [
              "<keras.callbacks.History at 0x7f5fe3128b90>"
            ]
          },
          "metadata": {},
          "execution_count": 114
        }
      ]
    },
    {
      "cell_type": "markdown",
      "source": [
        "# 6. Avaliar o modelo nos dados de teste"
      ],
      "metadata": {
        "id": "7fYk9eiRQbrs"
      }
    },
    {
      "cell_type": "code",
      "metadata": {
        "id": "trvbnpRGAisR",
        "colab": {
          "base_uri": "https://localhost:8080/"
        },
        "outputId": "565d399f-4a43-4c7f-f26b-cfc15b1c1061"
      },
      "source": [
        "y_pred = (model.predict(X_test) > 0.5).astype(\"int32\")\n",
        "print('Acurancia do modelo durtante os testes: {:.2f}%'.format(accuracy_score(y_test, np.argmax(y_pred, axis=1))*100))"
      ],
      "execution_count": 145,
      "outputs": [
        {
          "output_type": "stream",
          "name": "stdout",
          "text": [
            "Acurancia do modelo durtante os testes: 73.55%\n"
          ]
        }
      ]
    },
    {
      "cell_type": "markdown",
      "source": [
        "# Conclusão"
      ],
      "metadata": {
        "id": "zcFYj6EZQesB"
      }
    },
    {
      "cell_type": "markdown",
      "source": [
        "Mesmo com aumentando a épocas ou o número de tensores e classes, o LTSM não apresentou bons resultados acima de 80% de acurácia durante os testes. Realizei testes evitando utilizar o modelo do LSTM, apresentou uma melhor performance, foi mais rápido o treinamento e com uma acurácia melhor, utilizando apenas  2 camadas de redes “relu” com Dropout e saída de dados com softmax.\n",
        "\n",
        "Logo o LSTM é muito bom e apresenta um treinamento inicial com grande vantagem, porém não apresentou uma boa performance no dataset apresentado, pode ser que o tratamento de tokenização ou melhor tratamento do mesmo melhore o resultado apresentado.\n"
      ],
      "metadata": {
        "id": "X9LLY2m3jmTR"
      }
    }
  ]
}