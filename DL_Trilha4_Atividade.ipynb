{
  "nbformat": 4,
  "nbformat_minor": 0,
  "metadata": {
    "colab": {
      "name": "DL_Trilha4_Atividade.ipynb",
      "provenance": [],
      "collapsed_sections": [],
      "include_colab_link": true
    },
    "kernelspec": {
      "name": "python3",
      "display_name": "Python 3"
    },
    "language_info": {
      "name": "python"
    }
  },
  "cells": [
    {
      "cell_type": "markdown",
      "metadata": {
        "id": "view-in-github",
        "colab_type": "text"
      },
      "source": [
        "<a href=\"https://colab.research.google.com/github/marceloccs/DL-PARA-PLV/blob/main/DL_Trilha4_Atividade.ipynb\" target=\"_parent\"><img src=\"https://colab.research.google.com/assets/colab-badge.svg\" alt=\"Open In Colab\"/></a>"
      ]
    },
    {
      "cell_type": "markdown",
      "source": [
        "#**Nome:** Marcelo Custodio Cruz Silva\n",
        "\n",
        "##**Matricula:** 92123341\n",
        "\n",
        "---\n",
        "\n",
        "##**Curso:** Inteligencia Artificial\n",
        "\n",
        "##**Turma:** B\n",
        "\n",
        "*Link do arquivo no google colabs: https://drive.google.com/file/d/1VxILG87YzaTm0EXERSHScB1Fr87sERye/view?usp=sharing*\n",
        "\n",
        "*Link do arquivo no github: https://github.com/marceloccs/DL-PARA-PLV/blob/main/DL_Trilha4_Atividade.ipynb* \n",
        "\n"
      ],
      "metadata": {
        "id": "kLIu2iOV-u0h"
      }
    },
    {
      "cell_type": "markdown",
      "source": [
        "# Trilha 4: Tarefa (Peso 3)\n",
        "\n",
        "O reconhecimento facial é uma das aplicações mais populares em visão computacional. Nesta tarefa, você deverá desenvolver um classificador utilizando redes neurais convolucionais. Para isso, procure na Web pelo banco de dados ORL face e baixe o arquivo **ORL_faces.npz**. Baixe também o python notebook associado a esta tarefa e siga as instruções do arquivo, buscando completar os códigos em python visando à construção de uma rede neural convolucional. "
      ],
      "metadata": {
        "id": "MhDdnZM_-ZHa"
      }
    },
    {
      "cell_type": "code",
      "metadata": {
        "id": "Uy4VcT504zUQ"
      },
      "source": [
        "# Garante que o Colab utilizará o TensorFlow 2.x\n",
        "%tensorflow_version 2.x\n",
        "from __future__ import absolute_import, division, print_function, unicode_literals"
      ],
      "execution_count": 1,
      "outputs": []
    },
    {
      "cell_type": "code",
      "metadata": {
        "id": "LL_OQ4d79hGF"
      },
      "source": [
        "import itertools\n",
        "import numpy as np\n",
        "import pandas as pd\n",
        "from matplotlib import pyplot as plt"
      ],
      "execution_count": 2,
      "outputs": []
    },
    {
      "cell_type": "code",
      "metadata": {
        "id": "Yi1dRUrxHqjJ"
      },
      "source": [
        "from sklearn.model_selection import train_test_split\n",
        "from sklearn.metrics import accuracy_score"
      ],
      "execution_count": 3,
      "outputs": []
    },
    {
      "cell_type": "code",
      "metadata": {
        "id": "FWq3UHLP9idF"
      },
      "source": [
        "import tensorflow as tf\n",
        "from tensorflow import keras\n",
        "from tensorflow.keras import utils\n",
        "from tensorflow.keras import layers\n",
        "from tensorflow.keras import models\n",
        "from tensorflow.keras import datasets\n",
        "from tensorflow.keras import optimizers"
      ],
      "execution_count": 4,
      "outputs": []
    },
    {
      "cell_type": "markdown",
      "source": [
        "*Parte adicionada para descompatar e usar o arquivo que esta disponivel no GITHUB Link: https://github.com/marceloccs/DL-PARA-PLV/blob/main/ORL_faces.zip?raw=true*"
      ],
      "metadata": {
        "id": "Danz4vdrmMYz"
      }
    },
    {
      "cell_type": "code",
      "source": [
        "from io import BytesIO\n",
        "from zipfile import ZipFile\n",
        "from urllib.request import urlopen\n",
        "\n",
        "resp = urlopen(\"https://github.com/marceloccs/DL-PARA-PLV/blob/main/ORL_faces.zip?raw=true\")\n",
        "zipfile = ZipFile(BytesIO(resp.read()))\n",
        "zipfile.namelist()"
      ],
      "metadata": {
        "colab": {
          "base_uri": "https://localhost:8080/"
        },
        "id": "ztmFe1NwBJfX",
        "outputId": "18a7e5ac-00c5-4bc0-fc3a-652be71b97a6"
      },
      "execution_count": 5,
      "outputs": [
        {
          "output_type": "execute_result",
          "data": {
            "text/plain": [
              "['ORL_faces.npz']"
            ]
          },
          "metadata": {},
          "execution_count": 5
        }
      ]
    },
    {
      "cell_type": "code",
      "metadata": {
        "collapsed": true,
        "id": "4D8hLeJbFkjF"
      },
      "source": [
        "data = np.load(zipfile.open(zipfile.namelist()[0]))"
      ],
      "execution_count": 6,
      "outputs": []
    },
    {
      "cell_type": "code",
      "metadata": {
        "id": "aFzvxnc3HAVC"
      },
      "source": [
        "X_train = data['trainX']\n",
        "X_train = np.array(X_train, dtype=np.float32)/255\n",
        "\n",
        "X_test = data['testX']\n",
        "X_test = np.array(X_test, dtype=np.float32)/255\n",
        "\n",
        "y_train = data['trainY']\n",
        "y_test = data['testY']"
      ],
      "execution_count": 7,
      "outputs": []
    },
    {
      "cell_type": "code",
      "metadata": {
        "id": "BfknoJA5Hcny"
      },
      "source": [
        "X_train, X_valid, y_train, y_valid = train_test_split(X_train, y_train, test_size=.05, random_state=42)"
      ],
      "execution_count": 8,
      "outputs": []
    },
    {
      "cell_type": "code",
      "metadata": {
        "id": "itd2gVcQHkma"
      },
      "source": [
        "im_rows = 112\n",
        "im_cols = 92\n",
        "im_shape = (im_rows, im_cols, 1)"
      ],
      "execution_count": 9,
      "outputs": []
    },
    {
      "cell_type": "markdown",
      "metadata": {
        "id": "-hpTlkwoVOT0"
      },
      "source": [
        "1. **Reformate** os dados de treinamento, validação e teste no formato adequado para a rede neural."
      ]
    },
    {
      "cell_type": "markdown",
      "source": [
        "*Dados do dataset:*"
      ],
      "metadata": {
        "id": "UF6kUCSHmoxU"
      }
    },
    {
      "cell_type": "code",
      "source": [
        "print(\"Shape do teste: \",X_test.shape)\n",
        "print(\"Dados do teste: \",X_test)\n",
        "print(\"Quantidade de possibilidades para o teste: \",X_test[0].shape)"
      ],
      "metadata": {
        "colab": {
          "base_uri": "https://localhost:8080/"
        },
        "id": "BpbfCTtgGkNJ",
        "outputId": "168f02c5-290f-4b09-cd13-d6d2e02aca09"
      },
      "execution_count": 10,
      "outputs": [
        {
          "output_type": "stream",
          "name": "stdout",
          "text": [
            "Shape do teste:  (160, 10304)\n",
            "Dados do teste:  [[0.16078432 0.18431373 0.18431373 ... 0.13725491 0.14509805 0.14901961]\n",
            " [0.17254902 0.16862746 0.1254902  ... 0.16862746 0.16862746 0.14509805]\n",
            " [0.16470589 0.16078432 0.17254902 ... 0.16470589 0.16862746 0.16078432]\n",
            " ...\n",
            " [0.39607844 0.39215687 0.40392157 ... 0.12156863 0.15686275 0.16470589]\n",
            " [0.4117647  0.42352942 0.41568628 ... 0.17254902 0.15686275 0.18431373]\n",
            " [0.44313726 0.44705883 0.43529412 ... 0.24313726 0.31764707 0.34901962]]\n",
            "Quantidade de possibilidades para o teste:  (10304,)\n"
          ]
        }
      ]
    },
    {
      "cell_type": "code",
      "source": [
        "print(\"Shape do resultado: \",y_test.shape)\n",
        "print(\"Dados do resultado: \",(y_test))\n",
        "print(\"Quantidade de possibilidades para o resultado: \",(np.unique(y_test).shape[0]))"
      ],
      "metadata": {
        "colab": {
          "base_uri": "https://localhost:8080/"
        },
        "id": "xULbx86aHf-x",
        "outputId": "b9e1207e-be8e-44fa-fefa-d28c6c9e0197"
      },
      "execution_count": 11,
      "outputs": [
        {
          "output_type": "stream",
          "name": "stdout",
          "text": [
            "Shape do resultado:  (160,)\n",
            "Dados do resultado:  [ 0  0  0  0  0  0  0  0  1  1  1  1  1  1  1  1  2  2  2  2  2  2  2  2\n",
            "  3  3  3  3  3  3  3  3  4  4  4  4  4  4  4  4  5  5  5  5  5  5  5  5\n",
            "  6  6  6  6  6  6  6  6  7  7  7  7  7  7  7  7  8  8  8  8  8  8  8  8\n",
            "  9  9  9  9  9  9  9  9 10 10 10 10 10 10 10 10 11 11 11 11 11 11 11 11\n",
            " 12 12 12 12 12 12 12 12 13 13 13 13 13 13 13 13 14 14 14 14 14 14 14 14\n",
            " 15 15 15 15 15 15 15 15 16 16 16 16 16 16 16 16 17 17 17 17 17 17 17 17\n",
            " 18 18 18 18 18 18 18 18 19 19 19 19 19 19 19 19]\n",
            "Quantidade de possibilidades para o resultado:  20\n"
          ]
        }
      ]
    },
    {
      "cell_type": "markdown",
      "source": [
        "*Reshape do treino para o tamanho certo da imagem.*"
      ],
      "metadata": {
        "id": "yuhqq8_OmryL"
      }
    },
    {
      "cell_type": "code",
      "source": [
        "X_train = X_train.reshape(X_train.shape[0], *im_shape)\n",
        "X_test = X_test.reshape(X_test.shape[0], *im_shape)\n",
        "X_valid = X_valid.reshape(X_valid.shape[0], *im_shape)"
      ],
      "metadata": {
        "id": "pOXnUCz988MY"
      },
      "execution_count": 12,
      "outputs": []
    },
    {
      "cell_type": "code",
      "metadata": {
        "id": "rO9a9iSaez9q",
        "colab": {
          "base_uri": "https://localhost:8080/"
        },
        "outputId": "746eb54a-cac0-4cf8-b741-034c976e0794"
      },
      "source": [
        "X_test[0].shape"
      ],
      "execution_count": 13,
      "outputs": [
        {
          "output_type": "execute_result",
          "data": {
            "text/plain": [
              "(112, 92, 1)"
            ]
          },
          "metadata": {},
          "execution_count": 13
        }
      ]
    },
    {
      "cell_type": "markdown",
      "metadata": {
        "id": "l9-L73TcWBpp"
      },
      "source": [
        "2. **Construa** a rede neural convolucional objetivando o resultado da métrica apresentado no final deste notebook."
      ]
    },
    {
      "cell_type": "markdown",
      "source": [
        "*Modelo para o treinamento*"
      ],
      "metadata": {
        "id": "2Ngs0nLnnukN"
      }
    },
    {
      "cell_type": "code",
      "metadata": {
        "id": "AQRJIjYsH7gb",
        "colab": {
          "base_uri": "https://localhost:8080/"
        },
        "outputId": "9a0f07cb-d7a5-4952-8b70-968dc958ac12"
      },
      "source": [
        "model = keras.models.Sequential()\n",
        "model.add(keras.layers.Conv2D(X_test.shape[0]/4, kernel_size=7, activation='relu', input_shape=im_shape))\n",
        "model.add(keras.layers.MaxPooling2D((2, 2)))\n",
        "model.add(keras.layers.Conv2D(X_test.shape[0]/2, kernel_size=5, activation='relu'))\n",
        "model.add(keras.layers.MaxPooling2D((2, 2))),\n",
        "model.add(keras.layers.Conv2D(X_test.shape[0]/2, kernel_size=3, activation='relu'))\n",
        "model.add(keras.layers.Flatten())\n",
        "model.add(keras.layers.Dense(X_test.shape[0]*2, activation='relu'))\n",
        "model.add(keras.layers.Dropout(0.5))\n",
        "model.add(keras.layers.Dense(np.unique(y_test).shape[0], activation='softmax'))\n",
        "model.summary()"
      ],
      "execution_count": 14,
      "outputs": [
        {
          "output_type": "stream",
          "name": "stdout",
          "text": [
            "Model: \"sequential\"\n",
            "_________________________________________________________________\n",
            " Layer (type)                Output Shape              Param #   \n",
            "=================================================================\n",
            " conv2d (Conv2D)             (None, 106, 86, 40)       2000      \n",
            "                                                                 \n",
            " max_pooling2d (MaxPooling2D  (None, 53, 43, 40)       0         \n",
            " )                                                               \n",
            "                                                                 \n",
            " conv2d_1 (Conv2D)           (None, 49, 39, 80)        80080     \n",
            "                                                                 \n",
            " max_pooling2d_1 (MaxPooling  (None, 24, 19, 80)       0         \n",
            " 2D)                                                             \n",
            "                                                                 \n",
            " conv2d_2 (Conv2D)           (None, 22, 17, 80)        57680     \n",
            "                                                                 \n",
            " flatten (Flatten)           (None, 29920)             0         \n",
            "                                                                 \n",
            " dense (Dense)               (None, 320)               9574720   \n",
            "                                                                 \n",
            " dropout (Dropout)           (None, 320)               0         \n",
            "                                                                 \n",
            " dense_1 (Dense)             (None, 20)                6420      \n",
            "                                                                 \n",
            "=================================================================\n",
            "Total params: 9,720,900\n",
            "Trainable params: 9,720,900\n",
            "Non-trainable params: 0\n",
            "_________________________________________________________________\n"
          ]
        }
      ]
    },
    {
      "cell_type": "markdown",
      "metadata": {
        "id": "PSsdOtEFVVps"
      },
      "source": [
        "3. **Compile** o modelo com os seguintes parâmetros:\n",
        "* **Loss:** sparse_categorical_entropy;\n",
        "* **Optimizer:** Adam;\n",
        "* **Metrics:** accuracy."
      ]
    },
    {
      "cell_type": "code",
      "metadata": {
        "id": "QB_rYcITNlmu"
      },
      "source": [
        "model.compile(optimizer='adam',\n",
        "              loss='sparse_categorical_crossentropy',\n",
        "              metrics=['accuracy'])"
      ],
      "execution_count": 15,
      "outputs": []
    },
    {
      "cell_type": "markdown",
      "metadata": {
        "id": "Dwv5-0MGWSu8"
      },
      "source": [
        "4. **Ajuste** o modelo aos dados de treinamento considerando os seguintes parâmetros:\n",
        "* batch_size = 512\n",
        "* verbose = 2"
      ]
    },
    {
      "cell_type": "code",
      "metadata": {
        "colab": {
          "base_uri": "https://localhost:8080/"
        },
        "id": "Qc-axOPCzmVb",
        "outputId": "d523a536-90c0-4234-c924-3e2c6c9db1f5"
      },
      "source": [
        "historico = model.fit(X_train, y_train, epochs=25, \n",
        "          batch_size=512,verbose=2\n",
        "          ,validation_data=(np.array(X_valid),np.array(y_valid))\n",
        "          )"
      ],
      "execution_count": 16,
      "outputs": [
        {
          "output_type": "stream",
          "name": "stdout",
          "text": [
            "Epoch 1/25\n",
            "1/1 - 12s - loss: 3.0019 - accuracy: 0.0439 - val_loss: 3.1582 - val_accuracy: 0.0000e+00 - 12s/epoch - 12s/step\n",
            "Epoch 2/25\n",
            "1/1 - 8s - loss: 3.0817 - accuracy: 0.0789 - val_loss: 2.9769 - val_accuracy: 0.0000e+00 - 8s/epoch - 8s/step\n",
            "Epoch 3/25\n",
            "1/1 - 8s - loss: 2.9773 - accuracy: 0.0482 - val_loss: 2.9901 - val_accuracy: 0.0000e+00 - 8s/epoch - 8s/step\n",
            "Epoch 4/25\n",
            "1/1 - 8s - loss: 2.9521 - accuracy: 0.0965 - val_loss: 3.0430 - val_accuracy: 0.0000e+00 - 8s/epoch - 8s/step\n",
            "Epoch 5/25\n",
            "1/1 - 8s - loss: 2.9093 - accuracy: 0.1228 - val_loss: 2.9885 - val_accuracy: 0.0000e+00 - 8s/epoch - 8s/step\n",
            "Epoch 6/25\n",
            "1/1 - 8s - loss: 2.8597 - accuracy: 0.1316 - val_loss: 2.8482 - val_accuracy: 0.1667 - 8s/epoch - 8s/step\n",
            "Epoch 7/25\n",
            "1/1 - 8s - loss: 2.7814 - accuracy: 0.1491 - val_loss: 2.7795 - val_accuracy: 0.5000 - 8s/epoch - 8s/step\n",
            "Epoch 8/25\n",
            "1/1 - 8s - loss: 2.6526 - accuracy: 0.3114 - val_loss: 2.6876 - val_accuracy: 0.5000 - 8s/epoch - 8s/step\n",
            "Epoch 9/25\n",
            "1/1 - 8s - loss: 2.4015 - accuracy: 0.4035 - val_loss: 2.4315 - val_accuracy: 0.3333 - 8s/epoch - 8s/step\n",
            "Epoch 10/25\n",
            "1/1 - 8s - loss: 2.1808 - accuracy: 0.4298 - val_loss: 2.2702 - val_accuracy: 0.3333 - 8s/epoch - 8s/step\n",
            "Epoch 11/25\n",
            "1/1 - 8s - loss: 1.9335 - accuracy: 0.4737 - val_loss: 1.8980 - val_accuracy: 0.5000 - 8s/epoch - 8s/step\n",
            "Epoch 12/25\n",
            "1/1 - 8s - loss: 1.6157 - accuracy: 0.5570 - val_loss: 1.5506 - val_accuracy: 0.7500 - 8s/epoch - 8s/step\n",
            "Epoch 13/25\n",
            "1/1 - 8s - loss: 1.4677 - accuracy: 0.5614 - val_loss: 1.6471 - val_accuracy: 0.5000 - 8s/epoch - 8s/step\n",
            "Epoch 14/25\n",
            "1/1 - 8s - loss: 1.2116 - accuracy: 0.6404 - val_loss: 1.4811 - val_accuracy: 0.5833 - 8s/epoch - 8s/step\n",
            "Epoch 15/25\n",
            "1/1 - 8s - loss: 0.9924 - accuracy: 0.7061 - val_loss: 0.9701 - val_accuracy: 0.9167 - 8s/epoch - 8s/step\n",
            "Epoch 16/25\n",
            "1/1 - 8s - loss: 0.8453 - accuracy: 0.7588 - val_loss: 1.0725 - val_accuracy: 0.8333 - 8s/epoch - 8s/step\n",
            "Epoch 17/25\n",
            "1/1 - 8s - loss: 0.7846 - accuracy: 0.7368 - val_loss: 0.7458 - val_accuracy: 0.8333 - 8s/epoch - 8s/step\n",
            "Epoch 18/25\n",
            "1/1 - 8s - loss: 0.5944 - accuracy: 0.8158 - val_loss: 0.7280 - val_accuracy: 0.8333 - 8s/epoch - 8s/step\n",
            "Epoch 19/25\n",
            "1/1 - 8s - loss: 0.4977 - accuracy: 0.8553 - val_loss: 0.8201 - val_accuracy: 0.8333 - 8s/epoch - 8s/step\n",
            "Epoch 20/25\n",
            "1/1 - 8s - loss: 0.4057 - accuracy: 0.8991 - val_loss: 0.7078 - val_accuracy: 0.9167 - 8s/epoch - 8s/step\n",
            "Epoch 21/25\n",
            "1/1 - 8s - loss: 0.3947 - accuracy: 0.8947 - val_loss: 0.5313 - val_accuracy: 0.9167 - 8s/epoch - 8s/step\n",
            "Epoch 22/25\n",
            "1/1 - 8s - loss: 0.2932 - accuracy: 0.9342 - val_loss: 0.4875 - val_accuracy: 0.9167 - 8s/epoch - 8s/step\n",
            "Epoch 23/25\n",
            "1/1 - 8s - loss: 0.2108 - accuracy: 0.9474 - val_loss: 0.5038 - val_accuracy: 0.9167 - 8s/epoch - 8s/step\n",
            "Epoch 24/25\n",
            "1/1 - 8s - loss: 0.1578 - accuracy: 0.9561 - val_loss: 0.4386 - val_accuracy: 0.9167 - 8s/epoch - 8s/step\n",
            "Epoch 25/25\n",
            "1/1 - 8s - loss: 0.1386 - accuracy: 0.9693 - val_loss: 0.3810 - val_accuracy: 0.9167 - 8s/epoch - 8s/step\n"
          ]
        }
      ]
    },
    {
      "cell_type": "markdown",
      "source": [
        "*Resultado*"
      ],
      "metadata": {
        "id": "wSx5lducn1Zk"
      }
    },
    {
      "cell_type": "code",
      "metadata": {
        "colab": {
          "base_uri": "https://localhost:8080/"
        },
        "id": "4q-a9arszzCr",
        "outputId": "146a1880-14c7-4d97-bc4a-52010f9d9af8"
      },
      "source": [
        "scor = model.evaluate( np.array(X_test),  np.array(y_test), verbose=0)\n",
        "\n",
        "print('test los {:.4f}'.format(scor[0]))\n",
        "print('test acc {:.4f}'.format(scor[1]))"
      ],
      "execution_count": 17,
      "outputs": [
        {
          "output_type": "stream",
          "name": "stdout",
          "text": [
            "test los 0.5795\n",
            "test acc 0.8188\n"
          ]
        }
      ]
    }
  ]
}